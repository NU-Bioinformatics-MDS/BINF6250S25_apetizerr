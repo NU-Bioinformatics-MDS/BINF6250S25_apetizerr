{
 "cells": [
  {
   "cell_type": "markdown",
   "metadata": {},
   "source": [
    "# Pairwise alignments"
   ]
  },
  {
   "cell_type": "markdown",
   "metadata": {},
   "source": [
    "---\n",
    "## Learning Objectives\n",
    "\n",
    "1. Conceptually undersand dynamic programming and sequence alignment\n",
    "1. Implement Smith-Waterman algorithm for local alignment\n"
   ]
  },
  {
   "cell_type": "markdown",
   "metadata": {},
   "source": [
    "---\n",
    "## Background"
   ]
  },
  {
   "cell_type": "markdown",
   "metadata": {},
   "source": [
    "This week we will be implementing Smith-Waterman. This is a dynamic programming algorithm used for local sequence alignment. \n",
    "\n",
    "As a reminder, the scoring for Smith-Waterman only uses the scores from the positions above, left, and above-left of the current position in the matrix as below:\n",
    "\n",
    "<center><img src=\"figures/Smith-Waterman_scoring.png\"></center>\n",
    "\n",
    "For traceback, you will need to keep track of the direction of the arrows in a matrix and then begin traceback from the maximum value.\n",
    "\n",
    "# Smith-Waterman Algorithm Implementation Activity\n",
    "## Introduction\n",
    "\n",
    "Pairwise sequence alignment is a fundamental technique in bioinformatics used to compare two biological sequences, such as DNA, RNA, or proteins. It helps identify regions of similarity that may indicate functional, structural, or evolutionary relationships between the sequences.\n",
    "\n",
    "The brute force method for sequence alignment, which involves comparing every possible alignment, is highly inefficient. For two sequences of length m and n, the time complexity would be \\(T(m,n) = O(mn \\cdot 2^{m+n})\\), making it impractical for longer sequences.\n",
    "\n",
    "Dynamic programming offers a more efficient solution. It breaks down the problem into smaller subproblems and stores their solutions to avoid redundant computations. This approach reduces the time complexity to \\(O(mn)\\).\n",
    "\n",
    "The Smith-Waterman algorithm is a dynamic programming approach for local sequence alignment. It identifies the optimal local alignment between two sequences by comparing all possible pairs of segments from the sequences and finding the best-scoring alignment.\n",
    "\n",
    "## Activity Overview\n",
    "\n",
    "In this activity, you will implement the Smith-Waterman algorithm for local sequence alignment. The algorithm consists of two main parts:\n",
    "\n",
    "Scoring matrix calculation\n",
    "Traceback for optimal alignment reconstruction\n",
    "\n",
    "The pseudocode for the Smith-Waterman algorithm is as follows:\n",
    "\n",
    "$$\n",
    "\\begin{aligned}\n",
    "& \\text{Initialize scoring matrix } H \\text{ with zeros} \\\\\n",
    "& \\text{For } i \\text{ from } 1 \\text{ to } m: \\\\\n",
    "&     \\text{For } j \\text{ from } 1 \\text{ to } n: \\\\\n",
    "&         H[i][j] = \\max \\begin{cases}\n",
    "&             0 \\\\\n",
    "&             H[i-1][j-1] + \\text{match/mismatch score} \\\\\n",
    "&             H[i-1][j] + \\text{gap penalty} \\\\\n",
    "&             H[i][j-1] + \\text{gap penalty}\n",
    "&         \\end{cases} \\\\\n",
    "& \\text{Find the highest score in } H \\text{ and its position} \\\\\n",
    "& \\text{Perform traceback from the highest score position} \\\\\n",
    "& \\text{Return the optimal local alignment}\n",
    "\\end{aligned}\n",
    "$$\n",
    "\n",
    "## Instructions\n",
    "\n",
    "Working in pairs, implement the Smith-Waterman algorithm using Python. Your implementation should include:\n",
    "\n",
    "1. A function to calculate the scoring matrix (`cal_score`)\n",
    "2. A function to perform the traceback and reconstruct the optimal alignment (`traceback`)\n",
    "3. A dynamic scoring strategy that allows for customizable gap penalties and match/mismatch scores (`smith_waterman`)\n",
    "\n",
    "## Follow these steps:\n",
    "\n",
    "### Implement the scoring matrix calculation function:\n",
    "\n",
    "1. Initialize the matrix with zeros\n",
    "2. Fill the matrix using the Smith-Waterman algorithm\n",
    "3. Return the completed matrix and the position of the highest score\n",
    "\n",
    "### Implement the traceback function\n",
    "\n",
    "1. Start from the highest score position\n",
    "2. Trace back through the matrix to reconstruct the optimal alignment\n",
    "3. Return the aligned sequences and the alignment score\n",
    "\n",
    "### Implement a main function that:\n",
    "\n",
    "1. Takes two sequences as input\n",
    "2. Accepts parameters for match score, mismatch penalty, and gap penalty\n",
    "3. Calls the scoring and traceback functions\n",
    "4. Prints the aligned sequences and the alignment score\n",
    "\n",
    "Test your implementation with various input sequences and scoring parameters"
   ]
  },
  {
   "cell_type": "markdown",
   "metadata": {},
   "source": [
    "---\n",
    "## Imports"
   ]
  },
  {
   "cell_type": "code",
   "metadata": {
    "ExecuteTime": {
     "end_time": "2025-02-08T22:03:05.114389Z",
     "start_time": "2025-02-08T22:03:05.112171Z"
    }
   },
   "source": [
    "import numpy as np"
   ],
   "outputs": [],
   "execution_count": 2
  },
  {
   "cell_type": "markdown",
   "metadata": {},
   "source": [
    "---\n",
    "## Implement Smith-Waterman algorithm\n"
   ]
  },
  {
   "cell_type": "markdown",
   "metadata": {},
   "source": [
    "```\n",
    "SmithWaterman(seq1, seq2, match, mismatch, gap)\n",
    "    Initialize [len(seq1)+1] x [len(seq2)+1] numpy array as scoring matrix with first column and row equal to 0\n",
    "    \n",
    "    Fill scoring matrix (score_matrix) and Traceback matrix, record the position with max score (max_pos):\n",
    "    for i in each row number:\n",
    "        for j in each column number:\n",
    "            S[i][j] = max( S[i-1][j-1] + compute_diag_score, S[i-1][j] + gap_score, H[i][j-1] + gap_score, 0 )\n",
    "            T[i][j] = direction of max( S[i-1][j-1] + compute_diag_score, S[i-1][j] + gap_score, S[i][j-1] + gap_score, 0 )\n",
    "    \n",
    "    Traceback. Find the optimal path through scoring matrix starting at max_pos\n",
    "    \n",
    "```"
   ]
  },
  {
   "cell_type": "code",
   "execution_count": 18,
   "metadata": {},
   "outputs": [],
   "source": [
    "def cal_score(matrix, seq1, seq2, i, j, match, mismatch, gap):\n",
    "    '''Calculate score for position (i,j) in scoring matrix, also record move to trace back\n",
    "    \n",
    "    Args:\n",
    "        matrix (numpy array): scoring matrix\n",
    "        seq1 (str): sequence 1\n",
    "        seq2 (str): sequence 2\n",
    "        i (int): current row number\n",
    "        j (int): current column number\n",
    "        \n",
    "    Returns:\n",
    "        score in position (i,j)    \n",
    "        move to trace back: 0-END, 1-DIAG, 2-UP, 3-LEFT\n",
    "        \n",
    "    Pseudocode:\n",
    "        Calculate scores based on upper-left, up, and left neighbors:\n",
    "            diag_score = upper-left + (match or mismatch)\n",
    "            up_score = up + gap\n",
    "            left_score = left + gap\n",
    "        score = max(0, diag_score, up_score, left_score)\n",
    "        traceback = maximum direction or end\n",
    "        \n",
    "    '''\n",
    "    pass\n",
    "    "
   ]
  },
  {
   "cell_type": "code",
   "execution_count": 20,
   "metadata": {},
   "outputs": [],
   "source": [
    "def traceback(seq1, seq2, traceback_matrix, maximum_position):\n",
    "    '''Find the optimal path through scoring marix\n",
    "        \n",
    "        diagonal: match/mismatch\n",
    "        up: gap in seq1\n",
    "        left: gap in seq2\n",
    "        \n",
    "    Args:\n",
    "        seq1 (str) : First sequence being aligned\n",
    "        seq2 (str) : Second sequence being aligned\n",
    "        traceback_matrix (numpy array): traceback matrix\n",
    "        maximum_position (tuple): starting position to trace back from\n",
    "        \n",
    "    Returns:\n",
    "        aligned_seq1 (str): e.g. GTTGAC\n",
    "        aligned_seq2 (str): e.g. GTT-AC\n",
    "        \n",
    "    Pseudocode:\n",
    "        while current_move != END:\n",
    "            current_move = traceback_matrix[current_row][current_col]\n",
    "            if current_move == DIAG:\n",
    "                ...\n",
    "            elif current_move == UP:\n",
    "                ...\n",
    "            elif current_move == LEFT:\n",
    "                ...\n",
    "            \n",
    "    '''\n",
    "    pass\n",
    "            "
   ]
  },
  {
   "cell_type": "code",
   "execution_count": 17,
   "metadata": {},
   "outputs": [],
   "source": [
    "def smith_waterman(seq1, seq2, match=1, mismatch=-1, gap=-1):\n",
    "    '''Smith-Waterman algorithm for local alignment\n",
    "    \n",
    "    Args:\n",
    "        seq1 (str): input seq 1\n",
    "        seq2 (str): input seq 2\n",
    "        match: default = +1\n",
    "        mismatch: default = -1\n",
    "        gap: default = -1\n",
    "    \n",
    "    Returns:\n",
    "        aligned_seq1 (str)\n",
    "        aligned_seq2 (str)\n",
    "        score_matrix (numpy array): scoring matrix\n",
    "    '''\n",
    "    pass"
   ]
  },
  {
   "cell_type": "code",
   "execution_count": 21,
   "metadata": {},
   "outputs": [
    {
     "name": "stdout",
     "output_type": "stream",
     "text": [
      "AC-TTA\n",
      "ACATTA\n",
      "[[0 0 0 0 0 0 0 0 0]\n",
      " [0 0 0 0 0 1 1 0 0]\n",
      " [0 0 1 0 1 0 0 2 1]\n",
      " [0 1 0 2 1 0 0 1 1]\n",
      " [0 0 0 1 1 2 1 0 0]\n",
      " [0 0 0 0 0 2 3 2 1]\n",
      " [0 0 1 0 1 1 2 4 3]\n",
      " [0 0 0 0 0 0 1 3 3]]\n"
     ]
    }
   ],
   "source": [
    "# Example from slides\n",
    "seq1 = 'TACTTAG'\n",
    "seq2 = 'CACATTAA'\n",
    "\n",
    "aligned_seq1, aligned_seq2, score_matrix = smith_waterman(seq1,seq2)\n",
    "\n",
    "print (aligned_seq1)\n",
    "print (aligned_seq2)\n",
    "print (score_matrix)\n"
   ]
  },
  {
   "cell_type": "raw",
   "metadata": {},
   "source": [
    "Expected output:\n",
    "\n",
    "AC-TTA\n",
    "ACATTA\n",
    "[[0 0 0 0 0 0 0 0 0]\n",
    " [0 0 0 0 0 1 1 0 0]\n",
    " [0 0 1 0 1 0 0 2 1]\n",
    " [0 1 0 2 1 0 0 1 1]\n",
    " [0 0 0 1 1 2 1 0 0]\n",
    " [0 0 0 0 0 2 3 2 1]\n",
    " [0 0 1 0 1 1 2 4 3]\n",
    " [0 0 0 0 0 0 1 3 3]]"
   ]
  }
 ],
 "metadata": {
  "kernelspec": {
   "display_name": "Python 3 (ipykernel)",
   "language": "python",
   "name": "python3"
  },
  "language_info": {
   "codemirror_mode": {
    "name": "ipython",
    "version": 3
   },
   "file_extension": ".py",
   "mimetype": "text/x-python",
   "name": "python",
   "nbconvert_exporter": "python",
   "pygments_lexer": "ipython3",
   "version": "3.12.4"
  }
 },
 "nbformat": 4,
 "nbformat_minor": 4
}
