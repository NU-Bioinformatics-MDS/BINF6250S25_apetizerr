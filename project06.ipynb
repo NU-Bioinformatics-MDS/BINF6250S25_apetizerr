{
 "cells": [
  {
   "cell_type": "markdown",
   "metadata": {},
   "source": [
    "# Hierarchical Clustering - UPGMA"
   ]
  },
  {
   "cell_type": "markdown",
   "metadata": {},
   "source": [
    "---\n",
    "## Learning Objectives\n",
    "\n",
    "1. Implement a distance-based phylogeny neighbor joining algorithm\n",
    "1. Understanding of hierarchical clustering\n",
    "1. Manipulation of arrays and lists in Python\n"
   ]
  },
  {
   "cell_type": "markdown",
   "metadata": {},
   "source": [
    "---\n",
    "## Imports\n",
    "You will need to install a package called `ete3` for this project. You can do this by the command `conda install ete3`."
   ]
  },
  {
   "cell_type": "code",
   "execution_count": null,
   "metadata": {},
   "outputs": [],
   "source": [
    "from typing import List, Tuple, Dict\n",
    "import numpy as np\n",
    "import ete3"
   ]
  },
  {
   "attachments": {},
   "cell_type": "markdown",
   "metadata": {},
   "source": [
    "---\n",
    "## Background\n",
    "\n",
    "Today we will implement a distance-based phylogenetic tree construction method using the Neighbor-Joining (NJ) algorithm and Smith-Waterman local alignment scores. Unlike UPGMA (Unweighted Pair Group Method using Arithmetic averages), NJ produces unrooted trees and does not assume a constant evolutionary rate across lineages, making it more biologically realistic for analyzing sequence relationships.\n",
    "\n",
    "We will use HIV-1 reverse transcriptase sequences to construct our phylogenetic tree. The Smith-Waterman algorithm will be used to generate pairwise local alignment scores, which will then be converted into distances for tree construction. This approach is particularly suitable for HIV sequence analysis as it:\n",
    "1. Handles sequence variations effectively through local alignment\n",
    "2. Accounts for potential rate heterogeneity across different viral strains\n",
    "3. Does not assume a molecular clock\n",
    "\n",
    "The ultimate output will be an unrooted phylogenetic tree representing the evolutionary relationships between the HIV-1 sequences, visualized using the ete3 library. This method provides insights into viral diversity and evolutionary patterns while avoiding the assumptions of simpler hierarchical clustering approaches.\n",
    "\n",
    "The key innovations of this implementation are:\n",
    "- Use of Smith-Waterman for sensitive local alignment scoring\n",
    "- Implementation of Neighbor-Joining for unrooted tree construction\n",
    "- More biologically realistic evolutionary model"
   ]
  },
  {
   "cell_type": "markdown",
   "metadata": {},
   "source": [
    "## Neighbor-Joining Algorithm\n",
    "\n",
    "**Input**: Distance matrix $D$ for $n$ sequences\n",
    "\n",
    "**Initialization**:\n",
    "- Let $n$ be the number of sequences\n",
    "- Assign each sequence $i$ to its own leaf node\n",
    "- Initialize tree $T$ with leaf nodes\n",
    "\n",
    "**Iteration**:\n",
    "While $n > 2$:\n",
    "1. Calculate Q-matrix where:\n",
    "   $Q(i,j) = (n-2)d(i,j) - \\sum_{k=1}^n d(i,k) - \\sum_{k=1}^n d(j,k)$\n",
    "\n",
    "2. Find pair $(i,j)$ with minimum $Q(i,j)$\n",
    "\n",
    "3. Calculate branch lengths:\n",
    "   $d_i = \\frac{d(i,j) + (r_i - r_j)/(n-2)}{2}$\n",
    "   $d_j = d(i,j) - d_i$\n",
    "   where $r_i = \\sum_{k=1}^n d(i,k)$\n",
    "\n",
    "4. Create new node $k$\n",
    "   - Add branches from $k$ to $i$ and $j$ with lengths $d_i$ and $d_j$\n",
    "\n",
    "5. Update distances to remaining nodes $x$:\n",
    "   $d(k,x) = \\frac{d(i,x) + d(j,x) - d(i,j)}{2}$\n",
    "\n",
    "6. Remove nodes $i$ and $j$\n",
    "7. Add node $k$ to active nodes\n",
    "8. $n = n - 1$\n",
    "\n",
    "**Termination**:\n",
    "When $n = 2$ with remaining nodes $i$ and $j$:\n",
    "- Add final branch between $i$ and $j$ with length $d(i,j)$\n",
    "- Return unrooted tree $T$"
   ]
  },
  {
   "cell_type": "markdown",
   "metadata": {},
   "source": [
    "---\n",
    "## Distance metrics for comparing sequences\n",
    "\n",
    "### Smith-Waterman\n",
    "This was previously implemented. Feel free to import if you know how...or Copy & Paste.\n",
    "\n"
   ]
  },
  {
   "cell_type": "code",
   "execution_count": null,
   "metadata": {},
   "outputs": [],
   "source": [
    "def read_fasta(filename: str) -> Dict[str, str]:\n",
    "    \"\"\"Reads sequences from FASTA file.\n",
    "\n",
    "    Args:\n",
    "        filename (str): Path to FASTA file containing HIV RT sequences\n",
    "\n",
    "    Returns:\n",
    "        Dict[str, str]: Dictionary mapping sequence IDs to sequences\n",
    "\n",
    "    Examples:\n",
    "        >>> seqs = read_fasta(\"lafayette_SARS_RT.fasta\")\n",
    "        >>> len(seqs) > 0\n",
    "        True\n",
    "    \"\"\"\n",
    "    pass"
   ]
  },
  {
   "cell_type": "code",
   "execution_count": null,
   "metadata": {},
   "outputs": [],
   "source": [
    "def smith_waterman(\n",
    "    sequence1: str,\n",
    "    sequence2: str,\n",
    "    match_score: float = 2.0,\n",
    "    mismatch_penalty: float = -1.0,\n",
    "    gap_penalty: float = -1.0\n",
    ") -> float:\n",
    "    \"\"\"Implements Smith-Waterman local alignment algorithm.\n",
    "\n",
    "    Args:\n",
    "        sequence1 (str): First HIV RT sequence\n",
    "        sequence2 (str): Second HIV RT sequence\n",
    "        match_score (float): Score for matching characters\n",
    "        mismatch_penalty (float): Penalty for mismatched characters\n",
    "        gap_penalty (float): Penalty for gaps\n",
    "\n",
    "    Returns:\n",
    "        float: Normalized similarity score between sequences\n",
    "\n",
    "    Examples:\n",
    "        >>> seq1 = \"ACGT\"\n",
    "        >>> seq2 = \"ACGT\"\n",
    "        >>> smith_waterman(seq1, seq2)\n",
    "        1.0\n",
    "    \"\"\"\n",
    "    pass"
   ]
  },
  {
   "cell_type": "code",
   "execution_count": null,
   "metadata": {},
   "outputs": [],
   "source": [
    "def build_distance_matrix(sequences: Dict[str, str]) -> Tuple[np.ndarray, List[str]]:\n",
    "    \"\"\"Builds distance matrix using Smith-Waterman scores.\n",
    "\n",
    "    Args:\n",
    "        sequences (Dict[str, str]): Dictionary of HIV RT sequences\n",
    "\n",
    "    Returns:\n",
    "        Tuple[np.ndarray, List[str]]: Distance matrix and list of sequence IDs\n",
    "\n",
    "    Examples:\n",
    "        >>> seqs = read_fasta(\"lafayette_SARS_RT.fasta\")\n",
    "        >>> mat, ids = build_distance_matrix(seqs)\n",
    "        >>> mat[0:3, 0:3]  # Show 3x3 slice of distance matrix\n",
    "        array([[0.000, 0.004, 0.012],\n",
    "              [0.004, 0.000, 0.012],\n",
    "              [0.012, 0.012, 0.000]])\n",
    "        >>> len(ids)  # Number of sequences\n",
    "        19\n",
    "    \"\"\"\n",
    "    pass"
   ]
  },
  {
   "cell_type": "code",
   "execution_count": null,
   "metadata": {},
   "outputs": [],
   "source": [
    "def get_min_distance(matrix):\n",
    "    ''' Function to find the smallest value off-daigonal in the distance\n",
    "    matrix provided. This is used in the UPGMA algorithm.\n",
    "    \n",
    "    Args: \n",
    "        matrix (2D numpy array): a distance matrix\n",
    "\n",
    "    Returns:\n",
    "        min (float): The smallest distance in the matrix\n",
    "        pos (tuple): The x and y position of the smallest distance\n",
    "    \n",
    "    '''\n",
    "    pass"
   ]
  },
  {
   "cell_type": "code",
   "execution_count": null,
   "metadata": {},
   "outputs": [],
   "source": [
    "def neighbor_joining(\n",
    "    distance_matrix: np.ndarray,\n",
    "    labels: List[str]\n",
    ") -> str:\n",
    "    \"\"\"Implements Neighbor-Joining algorithm for phylogenetic tree construction.\n",
    "\n",
    "    Args:\n",
    "        distance_matrix (np.ndarray): Distance matrix from Smith-Waterman scores\n",
    "        labels (List[str]): Sequence identifiers\n",
    "\n",
    "    Returns:\n",
    "        str: Newick format tree string\n",
    "\n",
    "    Examples:\n",
    "        >>> seqs = read_fasta(\"lafayette_SARS_RT.fasta\")\n",
    "        >>> mat, ids = build_distance_matrix(seqs)\n",
    "        >>> tree = neighbor_joining(mat, ids)\n",
    "        >>> tree.startswith(\"((DM1:0.002,DM2:0.002)\")  # Start of Newick string\n",
    "        True\n",
    "        >>> tree.count(\",\")  # Number of separators in tree\n",
    "        18\n",
    "    \"\"\"\n",
    "    pass"
   ]
  },
  {
   "cell_type": "code",
   "execution_count": null,
   "metadata": {},
   "outputs": [],
   "source": [
    "def plot_tree(newick_tree: str) -> None:\n",
    "    \"\"\"Plots phylogenetic tree using ete3.\n",
    "\n",
    "    Args:\n",
    "        newick_tree (str): Tree in Newick format\n",
    "    \"\"\"\n",
    "    tree = ete3.Tree(newick_tree)\n",
    "    ts = ete3.TreeStyle()\n",
    "    ts.show_leaf_name = True\n",
    "    ts.mode = \"c\"  # circular style\n",
    "    return tree.render(\"%%inline\", tree_style=ts)"
   ]
  },
  {
   "cell_type": "code",
   "execution_count": null,
   "metadata": {},
   "outputs": [],
   "source": [
    "if __name__ == \"__main__\":\n",
    "    # Read HIV RT sequences\n",
    "    sequences = read_fasta(\"lafayette_SARS_RT.fasta\")\n",
    "    \n",
    "    # Build distance matrix using Smith-Waterman\n",
    "    dist_matrix, seq_ids = build_distance_matrix(sequences)\n",
    "    \n",
    "    # Generate unrooted tree using Neighbor-Joining\n",
    "    tree = neighbor_joining(dist_matrix, seq_ids)\n",
    "    \n",
    "    # Plot tree\n",
    "    plot_tree(tree)"
   ]
  }
 ],
 "metadata": {
  "kernelspec": {
   "display_name": "Teaching",
   "language": "python",
   "name": "conda-env-teaching-py"
  },
  "language_info": {
   "codemirror_mode": {
    "name": "ipython",
    "version": 3
   },
   "file_extension": ".py",
   "mimetype": "text/x-python",
   "name": "python",
   "nbconvert_exporter": "python",
   "pygments_lexer": "ipython3",
   "version": "3.12.4"
  }
 },
 "nbformat": 4,
 "nbformat_minor": 4
}
