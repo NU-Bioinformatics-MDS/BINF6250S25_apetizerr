{
 "cells": [
  {
   "cell_type": "markdown",
   "metadata": {},
   "source": [
    "# Gibbs sampling"
   ]
  },
  {
   "cell_type": "markdown",
   "metadata": {},
   "source": [
    "---\n",
    "## Imports"
   ]
  },
  {
   "cell_type": "code",
   "metadata": {
    "ExecuteTime": {
     "end_time": "2025-01-29T01:47:14.886291Z",
     "start_time": "2025-01-29T01:47:13.878746Z"
    }
   },
   "source": [
    "import numpy as np\n",
    "import seqlogo\n",
    "\n",
    "#import function for building sequence motif & idenfitying seqs matching to motif\n",
    "from data_readers import *\n",
    "from seq_ops import get_seq\n",
    "from motif_ops import *"
   ],
   "outputs": [],
   "execution_count": 3
  },
  {
   "cell_type": "markdown",
   "metadata": {},
   "source": [
    "---\n",
    "## Implement Gibbs Sampler\n"
   ]
  },
  {
   "cell_type": "markdown",
   "metadata": {},
   "source": [
    "Gibbs sampling is a MCMC approach to identify enrichments. Here we will implement a method to identify motifs from a set of regions. \n",
    "\n",
    "Important considerations:\n",
    "- We will need to score each sequence with a PWM using the `score_kmer()` or `score_sequence()` functions\n",
    "    - You will need to investigate into the help documenation and libraries to identify how best to use these functions. \n",
    "- These sites are often not strand-specific and so both scores on the negative as well as positive strand should be considered\n",
    "- To select a random sequence, use `random.randint()` or `numpy.random.randint()`\n",
    "- To select a new position $m$ (as defined below) use `random.choices()` or `numpy.random.choice()`  \n",
    "\n",
    "Assumptions: \n",
    "- We know $k$ as the length of expected motif\n",
    "- Each sequence contains the motif\n",
    "\n"
   ]
  },
  {
   "cell_type": "markdown",
   "metadata": {},
   "source": [
    "```\n",
    "GibbsMotifFinder(DNA, k-length)\n",
    "    random pick of k-length sequences from each line of DNA as Motifs\n",
    "    for j ← 1 to 10000 or Motifs stops changing\n",
    "        i ← Random(N) where N is number of DNA entries\n",
    "        PWM ← PWM constructed from all Motifs except for Motifi\n",
    "        Motifi ← select position m from PWM-scored k-mers in DNAi in probabilistic fashion from score distribution\n",
    "    return PFM\n",
    "```\n",
    "\n",
    "Probability of chosing position $m = \\frac{A_{m}}{\\sum_{l}A_{l}}$ for positions $l$ in DNAi\n"
   ]
  },
  {
   "cell_type": "markdown",
   "metadata": {},
   "source": [
    "**Note:** I have also added a function to `motif_ops.py` that will calculate the information content of your motifs. This is useful to observe the progression of your Gibbs sampler as well as a measure of convergence. You can use this function as `IC = pfm_ic(pfm)`. You should expect a slow increase of IC until it plateaus such as in the plot below from your lecture slides:\n",
    "\n",
    "<center><img src='figures/Gibbs_Sampling.png'/ width=600px></center>"
   ]
  },
  {
   "cell_type": "code",
   "metadata": {
    "ExecuteTime": {
     "end_time": "2025-01-29T01:48:43.898245Z",
     "start_time": "2025-01-29T01:48:43.894672Z"
    }
   },
   "source": [
    "def GibbsMotifFinder (seqs, k, seed=42, iterations=5000):\n",
    "    '''\n",
    "    Function to find a pfm from a list of strings using a Gibbs sampler\n",
    "    \n",
    "    Args: \n",
    "        seqs (str list): a list of sequences, not necessarily in same lengths\n",
    "        k (int): the length of motif to find\n",
    "        seed (int, default=42): seed for np.random\n",
    "\n",
    "    Returns:\n",
    "        pfm (numpy array): dimensions are 4xlength\n",
    "        \n",
    "    '''\n",
    "    '''\n",
    "    Function to find a pfm from a list of strings using a Gibbs sampler\n",
    "\n",
    "    Args:\n",
    "        seqs (str list): a list of sequences, not necessarily in same lengths\n",
    "        k (int): the length of motif to find\n",
    "        seed (int, default=42): seed for np.random\n",
    "\n",
    "    Returns:\n",
    "        pfm (numpy array): dimensions are 4xlength\n",
    "\n",
    "    '''\n",
    "    def GibbsMotifFinder(seqs, k, seed=42, iterations=1000, convergence_threshold=0.001, window_size=50):\n",
    "    '''\n",
    "    Function to find a pfm from a list of strings using a Gibbs sampler\n",
    "\n",
    "    Args:\n",
    "        seqs (str list): a list of sequences, not necessarily in same lengths\n",
    "        k (int): the length of motif to find\n",
    "        seed (int, default=42): seed for np.random\n",
    "\n",
    "    Returns:\n",
    "        pfm (numpy array): dimensions are 4xlength\n",
    "\n",
    "    '''\n",
    "    #Set random seed to make results reproducible.\n",
    "    np.random.seed(seed)\n",
    "\n",
    "    #Initialize motif positions randomly.\n",
    "    positions = [np.random.randint(0, len(seq) - k + 1) for seq in seqs]\n",
    "    ic_history = [] #Initialize an information content (IC) list.\n",
    "    prev_ic = 0\n",
    "\n",
    "    for iter_num in range(iterations):\n",
    "        #Randomly pick a sequence to leave out.\n",
    "        idx = np.random.randint(len(seqs))\n",
    "        removed_seq = seqs[idx]\n",
    "        del positions[idx]\n",
    "\n",
    "        #Build PFM excluding the removed sequence.\n",
    "        selected_kmers = [seqs[j][positions[j]:positions[j] + k] for j in range(len(positions))] #Extracts the current motif from all other sequences, excluding the removed sequence.\n",
    "        pfm = build_pfm(selected_kmers, k) #Build a Position Frequency Matrix (PFM) from the selected kmers.\n",
    "        pwm = build_pwm(pfm) #Convert the PFM to a PWM.\n",
    "\n",
    "        #Scan removed sequence for best motif position.\n",
    "        best_score = float('-inf') #Initializing \"best score\" to negative infinity allows us to track the highest scoring position.\n",
    "        best_position = 0 #Initialize the best position.\n",
    "        best_strand = '+'\n",
    "        for i in range(len(removed_seq) - k + 1): #Iterate over all possible k-mers in the removed sequence.\n",
    "            kmer = removed_seq[i:i + k]\n",
    "            rev_kmer = reverse_complement(kmer)\n",
    "\n",
    "            score_fwd, _, _ = score_sequence(kmer, pwm)\n",
    "            score_rev, _, _ = score_sequence(rev_kmer, pwm)\n",
    "\n",
    "            if score_fwd > best_score: #Update the best position to the position with the highest motif score.\n",
    "                best_score = score_fwd\n",
    "                best_position = i\n",
    "                best_strand = '+'\n",
    "            if score_rev > best_score:\n",
    "                best_score = score_rev\n",
    "                best_position = i\n",
    "                best_strand = '-'\n",
    "\n",
    "        #Reinsert best position.\n",
    "        positions.insert(idx, best_position)\n",
    "\n",
    "        ic = pfm_ic(pfm)\n",
    "        ic_history.append(ic)\n",
    "\n",
    "        if iter_num >= window_size:\n",
    "            recent_ic_avg = np.mean(ic_history[-window_size:])\n",
    "            if abs(recent_ic_avg - prev_ic) < convergence_threshold:\n",
    "                print(f\"Convergence reached at iteration {iter_num}\")\n",
    "                break\n",
    "            prev_ic = recent_ic_avg\n",
    "\n",
    "    #Build final PFM.\n",
    "    final_kmers = [seqs[i][positions[i]:positions[i] + k] for i in range(len(seqs))] #Extract the final set of motifs.\n",
    "    pfm = build_pfm(final_kmers, k) #Constructs a final pfm.\n",
    "\n",
    "    return pfm\n",
    "\n"
   ],
   "outputs": [],
   "execution_count": 7
  },
  {
   "cell_type": "code",
   "metadata": {
    "ExecuteTime": {
     "end_time": "2025-01-29T01:48:46.702638Z",
     "start_time": "2025-01-29T01:48:46.665593Z"
    }
   },
   "source": [
    "# Here we test your Gibbs sampler.\n",
    "# You do not need to edit this or the section below. This is the Driver program\n",
    "\n",
    "#read promoters, store in a list of strings\n",
    "seq_file=\"data/GCF_000009045.1_ASM904v1_genomic.fna\"\n",
    "gff_file=\"data/GCF_000009045.1_ASM904v1_genomic.gff\"\n",
    "\n",
    "seqs = []\n",
    "\n",
    "for name, seq in get_fasta(seq_file): # For each entry in our FASTA file\n",
    "    for gff_entry in get_gff(gff_file): # For each entry in our GFF file\n",
    "        if gff_entry.type == 'CDS': # If this is a coding sequence\n",
    "            promoter_seq = get_seq(seq, gff_entry.start, gff_entry.end, gff_entry.strand, 50) # Extract 50 bp as a promoter\n",
    "    \n",
    "            \"\"\"\n",
    "            Because the gibbs sampling assumption is broken in just using promoters,\n",
    "            and because it takes very long time to randomly progress through so many\n",
    "            regions, for this example we will pre-filter for sequences that all contain\n",
    "            part of the shine-dalgarno motif:\n",
    "            \"\"\"\n",
    "            if \"AGGAGG\" in promoter_seq:\n",
    "                seqs.append(promoter_seq)"
   ],
   "outputs": [],
   "execution_count": 8
  },
  {
   "cell_type": "code",
   "metadata": {
    "ExecuteTime": {
     "end_time": "2025-01-29T01:48:58.557134Z",
     "start_time": "2025-01-29T01:48:49.034231Z"
    }
   },
   "source": [
    "# Run the gibbs sampler:\n",
    "promoter_pfm = GibbsMotifFinder(seqs,10)\n",
    "\n",
    "# Plot the final pfm that is generated: \n",
    "seqlogo.seqlogo(seqlogo.CompletePm(pfm = promoter_pfm.T))"
   ],
   "outputs": [
    {
     "ename": "OSError",
     "evalue": "Could not find Ghostscript on path. There should be either a gs executable or a gswin32c.exe on your system's path",
     "output_type": "error",
     "traceback": [
      "\u001B[0;31m---------------------------------------------------------------------------\u001B[0m",
      "\u001B[0;31mOSError\u001B[0m                                   Traceback (most recent call last)",
      "Cell \u001B[0;32mIn[9], line 5\u001B[0m\n\u001B[1;32m      2\u001B[0m promoter_pfm \u001B[38;5;241m=\u001B[39m GibbsMotifFinder(seqs,\u001B[38;5;241m10\u001B[39m)\n\u001B[1;32m      4\u001B[0m \u001B[38;5;66;03m# Plot the final pfm that is generated: \u001B[39;00m\n\u001B[0;32m----> 5\u001B[0m \u001B[43mseqlogo\u001B[49m\u001B[38;5;241;43m.\u001B[39;49m\u001B[43mseqlogo\u001B[49m\u001B[43m(\u001B[49m\u001B[43mseqlogo\u001B[49m\u001B[38;5;241;43m.\u001B[39;49m\u001B[43mCompletePm\u001B[49m\u001B[43m(\u001B[49m\u001B[43mpfm\u001B[49m\u001B[43m \u001B[49m\u001B[38;5;241;43m=\u001B[39;49m\u001B[43m \u001B[49m\u001B[43mpromoter_pfm\u001B[49m\u001B[38;5;241;43m.\u001B[39;49m\u001B[43mT\u001B[49m\u001B[43m)\u001B[49m\u001B[43m)\u001B[49m\n",
      "File \u001B[0;32m~/Documents/GitHub/BINF6250S25_apetizerr/.venv1/lib/python3.11/site-packages/seqlogo/seqlogo.py:91\u001B[0m, in \u001B[0;36mseqlogo\u001B[0;34m(pm, ic_scale, color_scheme, size, format, filename, **kwargs)\u001B[0m\n\u001B[1;32m     88\u001B[0m \u001B[38;5;66;03m#Initialize the output format\u001B[39;00m\n\u001B[1;32m     89\u001B[0m logo_format \u001B[38;5;241m=\u001B[39m wl\u001B[38;5;241m.\u001B[39mLogoFormat(pm, options)\n\u001B[0;32m---> 91\u001B[0m out \u001B[38;5;241m=\u001B[39m \u001B[43mout_format\u001B[49m\u001B[43m(\u001B[49m\u001B[43mpm\u001B[49m\u001B[43m,\u001B[49m\u001B[43m \u001B[49m\u001B[43mlogo_format\u001B[49m\u001B[43m)\u001B[49m\n\u001B[1;32m     93\u001B[0m \u001B[38;5;66;03m# Create the file if the user supplied an filename\u001B[39;00m\n\u001B[1;32m     94\u001B[0m \u001B[38;5;28;01mif\u001B[39;00m filename:\n",
      "File \u001B[0;32m~/Documents/GitHub/BINF6250S25_apetizerr/.venv1/lib/python3.11/site-packages/weblogo/logo_formatter.py:74\u001B[0m, in \u001B[0;36msvg_formatter\u001B[0;34m(logodata, logoformat)\u001B[0m\n\u001B[1;32m     70\u001B[0m \u001B[38;5;28;01mdef\u001B[39;00m\u001B[38;5;250m \u001B[39m\u001B[38;5;21msvg_formatter\u001B[39m(logodata: LogoData, logoformat: LogoFormat) \u001B[38;5;241m-\u001B[39m\u001B[38;5;241m>\u001B[39m \u001B[38;5;28mbytes\u001B[39m:\n\u001B[1;32m     71\u001B[0m \u001B[38;5;250m    \u001B[39m\u001B[38;5;124;03m\"\"\"Generate a logo in Scalable Vector Graphics (SVG) format.\u001B[39;00m\n\u001B[1;32m     72\u001B[0m \u001B[38;5;124;03m    Requires the program 'pdf2svg' be installed.\u001B[39;00m\n\u001B[1;32m     73\u001B[0m \u001B[38;5;124;03m    \"\"\"\u001B[39;00m\n\u001B[0;32m---> 74\u001B[0m     pdf \u001B[38;5;241m=\u001B[39m \u001B[43mpdf_formatter\u001B[49m\u001B[43m(\u001B[49m\u001B[43mlogodata\u001B[49m\u001B[43m,\u001B[49m\u001B[43m \u001B[49m\u001B[43mlogoformat\u001B[49m\u001B[43m)\u001B[49m\n\u001B[1;32m     76\u001B[0m     command \u001B[38;5;241m=\u001B[39m shutil\u001B[38;5;241m.\u001B[39mwhich(\u001B[38;5;124m\"\u001B[39m\u001B[38;5;124mpdf2svg\u001B[39m\u001B[38;5;124m\"\u001B[39m)\n\u001B[1;32m     77\u001B[0m     \u001B[38;5;28;01mif\u001B[39;00m command \u001B[38;5;129;01mis\u001B[39;00m \u001B[38;5;28;01mNone\u001B[39;00m:\n",
      "File \u001B[0;32m~/Documents/GitHub/BINF6250S25_apetizerr/.venv1/lib/python3.11/site-packages/weblogo/logo_formatter.py:47\u001B[0m, in \u001B[0;36mpdf_formatter\u001B[0;34m(logodata, logoformat)\u001B[0m\n\u001B[1;32m     45\u001B[0m \u001B[38;5;250m\u001B[39m\u001B[38;5;124;03m\"\"\"Generate a logo in PDF format.\"\"\"\u001B[39;00m\n\u001B[1;32m     46\u001B[0m eps \u001B[38;5;241m=\u001B[39m eps_formatter(logodata, logoformat)\u001B[38;5;241m.\u001B[39mdecode()\n\u001B[0;32m---> 47\u001B[0m gs \u001B[38;5;241m=\u001B[39m \u001B[43mGhostscriptAPI\u001B[49m\u001B[43m(\u001B[49m\u001B[43m)\u001B[49m\n\u001B[1;32m     48\u001B[0m \u001B[38;5;28;01massert\u001B[39;00m logoformat\u001B[38;5;241m.\u001B[39mlogo_height \u001B[38;5;129;01mis\u001B[39;00m \u001B[38;5;129;01mnot\u001B[39;00m \u001B[38;5;28;01mNone\u001B[39;00m\n\u001B[1;32m     49\u001B[0m \u001B[38;5;28;01massert\u001B[39;00m logoformat\u001B[38;5;241m.\u001B[39mlogo_width \u001B[38;5;129;01mis\u001B[39;00m \u001B[38;5;129;01mnot\u001B[39;00m \u001B[38;5;28;01mNone\u001B[39;00m\n",
      "File \u001B[0;32m~/Documents/GitHub/BINF6250S25_apetizerr/.venv1/lib/python3.11/site-packages/weblogo/logo_formatter.py:328\u001B[0m, in \u001B[0;36mGhostscriptAPI.__init__\u001B[0;34m(self, path)\u001B[0m\n\u001B[1;32m    326\u001B[0m     command \u001B[38;5;241m=\u001B[39m shutil\u001B[38;5;241m.\u001B[39mwhich(\u001B[38;5;124m\"\u001B[39m\u001B[38;5;124mgswin32c.exe\u001B[39m\u001B[38;5;124m\"\u001B[39m, path\u001B[38;5;241m=\u001B[39mpath)  \u001B[38;5;66;03m# pragma: no cover\u001B[39;00m\n\u001B[1;32m    327\u001B[0m \u001B[38;5;28;01mif\u001B[39;00m command \u001B[38;5;129;01mis\u001B[39;00m \u001B[38;5;28;01mNone\u001B[39;00m:\n\u001B[0;32m--> 328\u001B[0m     \u001B[38;5;28;01mraise\u001B[39;00m \u001B[38;5;167;01mEnvironmentError\u001B[39;00m(\n\u001B[1;32m    329\u001B[0m         \u001B[38;5;124m\"\u001B[39m\u001B[38;5;124mCould not find Ghostscript on path. \u001B[39m\u001B[38;5;124m\"\u001B[39m\n\u001B[1;32m    330\u001B[0m         \u001B[38;5;124m\"\u001B[39m\u001B[38;5;124mThere should be either a gs executable or a gswin32c.exe on \u001B[39m\u001B[38;5;124m\"\u001B[39m\n\u001B[1;32m    331\u001B[0m         \u001B[38;5;124m\"\u001B[39m\u001B[38;5;124myour system\u001B[39m\u001B[38;5;124m'\u001B[39m\u001B[38;5;124ms path\u001B[39m\u001B[38;5;124m\"\u001B[39m\n\u001B[1;32m    332\u001B[0m     )  \u001B[38;5;66;03m# pragma: no cover\u001B[39;00m\n\u001B[1;32m    334\u001B[0m \u001B[38;5;28mself\u001B[39m\u001B[38;5;241m.\u001B[39mcommand \u001B[38;5;241m=\u001B[39m command\n",
      "\u001B[0;31mOSError\u001B[0m: Could not find Ghostscript on path. There should be either a gs executable or a gswin32c.exe on your system's path"
     ]
    }
   ],
   "execution_count": 9
  }
 ],
 "metadata": {
  "kernelspec": {
   "display_name": "Python 3 (ipykernel)",
   "language": "python",
   "name": "python3"
  },
  "language_info": {
   "codemirror_mode": {
    "name": "ipython",
    "version": 3
   },
   "file_extension": ".py",
   "mimetype": "text/x-python",
   "name": "python",
   "nbconvert_exporter": "python",
   "pygments_lexer": "ipython3",
   "version": "3.12.4"
  }
 },
 "nbformat": 4,
 "nbformat_minor": 4
}
