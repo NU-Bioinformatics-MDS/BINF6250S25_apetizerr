{
 "cells": [
  {
   "cell_type": "markdown",
   "id": "af348eba-b1ca-4b2b-a49a-ecd0cd2de78a",
   "metadata": {},
   "source": [
    "# Markov Chains"
   ]
  },
  {
   "cell_type": "markdown",
   "id": "10c3de6f-a30a-4a2e-91f4-593f1f41d88a",
   "metadata": {},
   "source": [
    "---\n",
    "In class today we will be implementing a Markov chain to process sentences"
   ]
  },
  {
   "cell_type": "markdown",
   "id": "ed6dda45-e3c8-43b4-8362-e43292a3c6c3",
   "metadata": {},
   "source": [
    "---\n",
    "## Learning Objectives\n",
    "\n",
    "1. Students will be able to explain the Markov Chain process\n",
    "1. Implement a Markov Chain\n"
   ]
  },
  {
   "cell_type": "markdown",
   "id": "c8f7dfbe-f159-461e-a5ff-77a6218373be",
   "metadata": {},
   "source": [
    "---\n",
    "## Background"
   ]
  },
  {
   "cell_type": "markdown",
   "id": "6ac4394c-9c65-4ed4-bfe8-0db56ec32223",
   "metadata": {},
   "source": [
    "Markov Chains represent a series of events following the Markov Property: future states are memory-less in that they depend only on the current state. This can be expanded to the idea of variable order Markov models where there is a variable-length memory (eg. 1st order Markov Model). Markov models consist of fully observable states. \n",
    "\n",
    "> A common example of this is in predicting the weather: We can clearly see the current weather and would like to predict tomorrow's weather. This is also applicable to biology with one case being CpG islands. \n",
    "\n",
    "Our goal today will be to implement a Markov model built from words. For our example text, we will use the classic example of Dr. Seuss because of the repetitive nature of the text."
   ]
  },
  {
   "cell_type": "markdown",
   "id": "69269a05-73d5-47e4-96f3-29e25ed3b928",
   "metadata": {},
   "source": [
    "---\n",
    "## Train Markov model\n",
    "\n",
    "For our initial implementation of the Markov Model, we will use the simple example of Dr. Seuss: \"One fish two fish red fish blue fish.\"\n",
    "\n"
   ]
  },
  {
   "cell_type": "code",
   "id": "d3a2e7a1-b676-4874-ad72-fe14edf98a29",
   "metadata": {
    "ExecuteTime": {
     "end_time": "2025-01-18T23:29:34.757969Z",
     "start_time": "2025-01-18T23:29:34.750175Z"
    }
   },
   "source": [
    "from numpy.random.c_distributions import random_exponential\n",
    "\n",
    "\n",
    "def build_markov_model(markov_model, new_text):\n",
    "    '''\n",
    "    Function to build or add to a 1st order Markov model given a string of text\n",
    "    We will store the markov model as a dictionary of dictionaries\n",
    "    The key in the outer dictionary represents the current state\n",
    "    and the inner dictionary represents the next state with their contents containing\n",
    "    the transition probabilities.\n",
    "    Note: This would be easier to read if we were to build a class representation\n",
    "           of the model rather than a dictionary of dictionaries, but for simplicitiy\n",
    "           our implementation will just use this structure.\n",
    "    \n",
    "    Args: \n",
    "        markov_model (dict of dicts): a dictionary of word:(next_word:frequency pairs)\n",
    "        new_text (str): a string to build or add to the moarkov_model\n",
    "\n",
    "    Returns:\n",
    "        markov_model (dict of dicts): an updated markov_model\n",
    "        \n",
    "    Pseudocode:\n",
    "        Add artificial states for start and end\n",
    "        For each word in text:\n",
    "            Increment markov_model[word][next_word]\n",
    "        \n",
    "    '''\n",
    "    split_text = new_text.split(\" \")\n",
    "    if len(markov_model) == 0:\n",
    "        markov_model['*S*'] = {}\n",
    "    markov_model['*S*'][split_text[0]] = markov_model['*S*'].get(split_text[0], 0) + 1\n",
    "    # the for loop iterates through the list adding the next words on a dictionary of dictionary to see the frequency of words\n",
    "    for word_place in range(0, len(split_text) -1):\n",
    "        current_word = split_text[word_place]\n",
    "        next_word = split_text[word_place + 1]\n",
    "        if current_word not in markov_model:\n",
    "            markov_model[current_word] = {}\n",
    "        markov_model[current_word][next_word] = markov_model[current_word].get(next_word, 0) + 1\n",
    "\n",
    "\n",
    "    markov_model[split_text[-1]]['*E*'] = markov_model[split_text[-1]].get('*E*', 0) + 1\n",
    "    return markov_model\n"
   ],
   "outputs": [],
   "execution_count": 59
  },
  {
   "cell_type": "code",
   "id": "cbc64609-ae18-4d8e-acd9-0e6a6110bf5b",
   "metadata": {
    "ExecuteTime": {
     "end_time": "2025-01-18T23:29:36.220337Z",
     "start_time": "2025-01-18T23:29:36.216682Z"
    }
   },
   "source": [
    "markov_model = dict()\n",
    "text = \"one fish two fish red fish blue fish\"\n",
    "markov_model = build_markov_model(markov_model, text)\n",
    "print (markov_model)"
   ],
   "outputs": [
    {
     "name": "stdout",
     "output_type": "stream",
     "text": [
      "{'*S*': {'one': 1}, 'one': {'fish': 1}, 'fish': {'two': 1, 'red': 1, 'blue': 1, '*E*': 1}, 'two': {'fish': 1}, 'red': {'fish': 1}, 'blue': {'fish': 1}}\n"
     ]
    }
   ],
   "execution_count": 60
  },
  {
   "cell_type": "raw",
   "id": "d7d42532-a75f-4ee4-aad0-fb9d6843050c",
   "metadata": {},
   "source": [
    "Expected output:\n",
    "{'*S*': {'one': 1}, 'one': {'fish': 1}, 'fish': {'two': 1, 'red': 1, 'blue': 1, '*E*': 1}, 'two': {'fish': 1}, 'red': {'fish': 1}, 'blue': {'fish': 1}}"
   ]
  },
  {
   "cell_type": "markdown",
   "id": "36386041-90a1-4c7a-967c-ed08c38f56c0",
   "metadata": {},
   "source": [
    "###  Nth order Markov chain\n",
    "In the above model, each event or word is output from only the previous state with no memory of any prior states. While this is useful in some cases, typical biological applications of Markov chains require higher-order models to accurately capture what we know about a system. For instance, in attempting to identify coding regions of a genome, we know that open reading frames (ORFs) contain codon triplets, and so a third or sixth order Markov chain would better describe these regions. Here you will implement a generalized form of our previous Markov Chain to allow for Nth order chains.\n"
   ]
  },
  {
   "cell_type": "code",
   "id": "796cf4ce-29e9-4507-a7e0-afc0e9b1429c",
   "metadata": {
    "ExecuteTime": {
     "end_time": "2025-01-19T18:33:11.801584Z",
     "start_time": "2025-01-19T18:33:11.795468Z"
    }
   },
   "source": [
    "def build_markov_model(markov_model, text, order=1):\n",
    "    '''\n",
    "    Function to build or add to a Nth order Markov model given a string of text\n",
    "\n",
    "    Args: \n",
    "        markov_model (dict of dicts): a dictionary of word:(next_word:frequency pairs)\n",
    "            or None if a new model is being built\n",
    "        new_text (str): a string to build or add to the moarkov_model\n",
    "        order (int): the number of previous states to consider for the model\n",
    "        \n",
    "    Returns:\n",
    "        markov_model (dict of dicts): an updated/new markov_model\n",
    "    '''\n",
    "    split_text = text.split(\" \")\n",
    "\n",
    "\n",
    "    if len(markov_model) == 0:\n",
    "        markov_model[('*S*',) * order] = {}\n",
    "    markov_model[('*S*',) * order][split_text[0]] = markov_model[('*S*',) * order].get(split_text[0], 0) + 1\n",
    "    # the for loop iterates through the list adding the next words on a dictionary of dictionary to see the frequency of words\n",
    "    for word_place in range(order - 1, len(split_text) -1):\n",
    "        if '*S*' in markov_model:\n",
    "            current = ('*S*',) * (order - 1 - word_place) + tuple(words[:i + 1])\n",
    "            next = split_text[word_place + 1]\n",
    "        if current not in markov_model:\n",
    "            markov_model[current] = {}\n",
    "        markov_model[current][next] = markov_model[current].get(next, 0) + 1\n",
    "\n",
    "\n",
    "    for i in range(len(split_text) - order):\n",
    "        if tuple(split_text[i + order]) not in markov_model:\n",
    "            markov_model[tuple(split_text[i + order])] = markov_model[tuple(split_text[i + order])]\n",
    "    return markov_model"
   ],
   "outputs": [],
   "execution_count": 66
  },
  {
   "cell_type": "code",
   "id": "62b8f110-6cad-41bb-b976-261a136282ac",
   "metadata": {
    "ExecuteTime": {
     "end_time": "2025-01-21T16:59:48.069826Z",
     "start_time": "2025-01-21T16:59:48.049869Z"
    }
   },
   "source": [
    "markov_model = dict()\n",
    "text = \"one fish two fish red fish blue red fish blue\"\n",
    "markov_model = build_markov_model(markov_model, text, order=2)"
   ],
   "outputs": [
    {
     "ename": "UnboundLocalError",
     "evalue": "local variable 'current' referenced before assignment",
     "output_type": "error",
     "traceback": [
      "\u001B[0;31m---------------------------------------------------------------------------\u001B[0m",
      "\u001B[0;31mUnboundLocalError\u001B[0m                         Traceback (most recent call last)",
      "Cell \u001B[0;32mIn[113], line 3\u001B[0m\n\u001B[1;32m      1\u001B[0m markov_model \u001B[38;5;241m=\u001B[39m \u001B[38;5;28mdict\u001B[39m()\n\u001B[1;32m      2\u001B[0m text \u001B[38;5;241m=\u001B[39m \u001B[38;5;124m\"\u001B[39m\u001B[38;5;124mone fish two fish red fish blue red fish blue\u001B[39m\u001B[38;5;124m\"\u001B[39m\n\u001B[0;32m----> 3\u001B[0m markov_model \u001B[38;5;241m=\u001B[39m \u001B[43mbuild_markov_model\u001B[49m\u001B[43m(\u001B[49m\u001B[43mmarkov_model\u001B[49m\u001B[43m,\u001B[49m\u001B[43m \u001B[49m\u001B[43mtext\u001B[49m\u001B[43m,\u001B[49m\u001B[43m \u001B[49m\u001B[43morder\u001B[49m\u001B[38;5;241;43m=\u001B[39;49m\u001B[38;5;241;43m2\u001B[39;49m\u001B[43m)\u001B[49m\n",
      "Cell \u001B[0;32mIn[66], line 25\u001B[0m, in \u001B[0;36mbuild_markov_model\u001B[0;34m(markov_model, text, order)\u001B[0m\n\u001B[1;32m     23\u001B[0m     current \u001B[38;5;241m=\u001B[39m (\u001B[38;5;124m'\u001B[39m\u001B[38;5;124m*S*\u001B[39m\u001B[38;5;124m'\u001B[39m,) \u001B[38;5;241m*\u001B[39m (order \u001B[38;5;241m-\u001B[39m \u001B[38;5;241m1\u001B[39m \u001B[38;5;241m-\u001B[39m word_place) \u001B[38;5;241m+\u001B[39m \u001B[38;5;28mtuple\u001B[39m(words[:i \u001B[38;5;241m+\u001B[39m \u001B[38;5;241m1\u001B[39m])\n\u001B[1;32m     24\u001B[0m     \u001B[38;5;28mnext\u001B[39m \u001B[38;5;241m=\u001B[39m split_text[word_place \u001B[38;5;241m+\u001B[39m \u001B[38;5;241m1\u001B[39m]\n\u001B[0;32m---> 25\u001B[0m \u001B[38;5;28;01mif\u001B[39;00m \u001B[43mcurrent\u001B[49m \u001B[38;5;129;01mnot\u001B[39;00m \u001B[38;5;129;01min\u001B[39;00m markov_model:\n\u001B[1;32m     26\u001B[0m     markov_model[current] \u001B[38;5;241m=\u001B[39m {}\n\u001B[1;32m     27\u001B[0m markov_model[current][\u001B[38;5;28mnext\u001B[39m] \u001B[38;5;241m=\u001B[39m markov_model[current]\u001B[38;5;241m.\u001B[39mget(\u001B[38;5;28mnext\u001B[39m, \u001B[38;5;241m0\u001B[39m) \u001B[38;5;241m+\u001B[39m \u001B[38;5;241m1\u001B[39m\n",
      "\u001B[0;31mUnboundLocalError\u001B[0m: local variable 'current' referenced before assignment"
     ]
    }
   ],
   "execution_count": 113
  },
  {
   "cell_type": "raw",
   "id": "0bf821ed-d84f-4fe7-9de9-3c21a3841aa3",
   "metadata": {},
   "source": [
    "Expected output:\n",
    "{('*S*', '*S*'): {'one': 1},\n",
    " ('*S*', 'one'): {'fish': 1},\n",
    " ('one', 'fish'): {'two': 1},\n",
    " ('fish', 'two'): {'fish': 1},\n",
    " ('two', 'fish'): {'red': 1},\n",
    " ('fish', 'red'): {'fish': 1},\n",
    " ('red', 'fish'): {'blue': 1},\n",
    " ('fish', 'blue'): {'fish': 1},\n",
    " ('blue', 'fish'): {'*E*': 1}}"
   ]
  },
  {
   "cell_type": "markdown",
   "id": "14699827-2b59-4490-a961-a9ed04351a8e",
   "metadata": {},
   "source": [
    "## Generate text from Markov Model\n",
    "\n",
    "Markov models are \"generative models\". That is, the probability states in the model can be used to generate output following the conditional probabilities in the model.\n",
    "\n",
    "We will now generate a sequence of text from the Markov model. For this section, I recommend using np.random.choice, which allows for you to provide a probability distribution for drawing the next edge in the chain."
   ]
  },
  {
   "cell_type": "code",
   "id": "baea1038-ff96-46d4-b61a-cbd0777263f8",
   "metadata": {
    "ExecuteTime": {
     "end_time": "2025-01-20T05:55:55.850177Z",
     "start_time": "2025-01-20T05:55:55.842374Z"
    }
   },
   "source": [
    "import numpy as np\n",
    "\n",
    "\n",
    "def get_next_word(current_word, markov_model, seed=42):\n",
    "    '''\n",
    "    Function to randomly move a valid next state given a markov model\n",
    "    and a current state (word)\n",
    "\n",
    "    Args:\n",
    "        current_word (tuple): a word that exists in our model\n",
    "        markov_model (dict of dicts): a dictionary of word:(next_word:frequency pairs)\n",
    "\n",
    "    Returns:\n",
    "        next_word (str): a randomly selected next word based on transition probabilies\n",
    "\n",
    "    Pseudocode:\n",
    "        Calculate transition probilities for all next states from a given state (counts/sum)\n",
    "        Randomly draw from these to generate the next state\n",
    "\n",
    "    '''\n",
    "    word_list = []\n",
    "    freq_list = []\n",
    "    np.random.seed(seed)\n",
    "    for i in markov_model:\n",
    "\n",
    "        if current_word == i or current_word in i: # handles both tuple or singular words\n",
    "            word_list.extend(markov_model[i].keys())\n",
    "            freq_list.extend(markov_model[i].values())\n",
    "    prob = [x / sum(freq_list) for x in freq_list]\n",
    "    random_word = np.random.choice(word_list, p=prob)\n",
    "    return random_word\n",
    "\n",
    "def generate_random_text(markov_model, seed=42):\n",
    "    '''\n",
    "    Function to generate text given a markov model\n",
    "\n",
    "    Args:\n",
    "        markov_model (dict of dicts): a dictionary of word:(next_word:frequency pairs)\n",
    "\n",
    "    Returns:\n",
    "        sentence (str): a randomly generated sequence given the model\n",
    "\n",
    "    Pseudocode:\n",
    "        Initialize sentence at start state\n",
    "        Until End State:\n",
    "            append get_next_word(current_word, markov_model)\n",
    "        Return sentence\n",
    "\n",
    "    '''\n",
    "    scentence = []\n",
    "    np.random.seed(seed)\n",
    "\n",
    "    order = 0\n",
    "    start_state = '*S*'\n",
    "    for i in markov_model:\n",
    "        if start_state in i:\n",
    "            order = len(i)\n",
    "            break\n",
    "\n",
    "    init_start_state = ('*S*',) * order\n",
    "\n",
    "    for _ in range(len(markov_model)): # number of iteration found in the markov model\n",
    "        words_to_connect = (get_next_word(init_start_state, markov_model, seed))\n",
    "        if words_to_connect == '*E*':\n",
    "            break\n",
    "\n",
    "        scentence.append(words_to_connect)\n",
    "        init_start_state = (*init_start_state[1:], words_to_connect)\n",
    "    return ' '.join(scentence)\n"
   ],
   "outputs": [],
   "execution_count": 110
  },
  {
   "cell_type": "markdown",
   "id": "4b8724eb-5e10-4ffc-a76e-8a2015b3ee47",
   "metadata": {},
   "source": [
    "---"
   ]
  },
  {
   "cell_type": "markdown",
   "id": "a9280c1d-9f9e-47d8-8697-cc6255b3ec7d",
   "metadata": {},
   "source": [
    "## All the Fish\n",
    "Up till now, you have only been working with a line or two of the Dr. Seuss' _One Fish, Two Fish_. Now, I want you to build a model using the whole book and try different orders of Markov models."
   ]
  },
  {
   "cell_type": "code",
   "id": "c04a137e-4c1d-40df-9056-177c022009ff",
   "metadata": {
    "ExecuteTime": {
     "end_time": "2025-01-20T05:55:59.004384Z",
     "start_time": "2025-01-20T05:55:59.000530Z"
    }
   },
   "source": [
    "# Now just add some more training data to the markov model. You can find it under data/one_fish_two_fish.txt\n",
    "\n",
    "markov_model = dict()\n",
    "# Read in the whole book\n",
    "pass\n",
    "\n",
    "print (generate_random_text(markov_model,seed=7))"
   ],
   "outputs": [
    {
     "name": "stdout",
     "output_type": "stream",
     "text": [
      "\n"
     ]
    }
   ],
   "execution_count": 111
  },
  {
   "cell_type": "markdown",
   "id": "9751e164-73d4-4c53-94d4-92f0d6f96b76",
   "metadata": {},
   "source": [
    "---\n",
    "## Shakespeare\n",
    "\n",
    "Now, let's play around with some Shakespeare."
   ]
  },
  {
   "cell_type": "code",
   "id": "1279dd44-0513-4cea-a51f-ac3b52927cad",
   "metadata": {
    "ExecuteTime": {
     "end_time": "2025-01-20T05:21:21.790054Z",
     "start_time": "2025-01-20T05:21:21.679290Z"
    }
   },
   "source": [
    "# An example of a more complex text that we can use to generate more complex output\n",
    "sonet_markov_model = dict()\n",
    "file = open(\"data/sonnets.txt\", \"r\")\n",
    "sonet = \"\"\n",
    "for line in file:\n",
    "    line = line.strip()\n",
    "    if line == \"\":\n",
    "        # Empty line so build model\n",
    "        sonet_markov_model = build_markov_model(sonet_markov_model, sonet, order=2)\n",
    "        sonet = \"\"\n",
    "    else:\n",
    "        sonet = sonet + ' ' + line\n",
    " \n",
    "print (generate_random_text(sonet_markov_model,seed=7))"
   ],
   "outputs": [
    {
     "ename": "FileNotFoundError",
     "evalue": "[Errno 2] No such file or directory: 'data/sonnets.txt'",
     "output_type": "error",
     "traceback": [
      "\u001B[0;31m---------------------------------------------------------------------------\u001B[0m",
      "\u001B[0;31mFileNotFoundError\u001B[0m                         Traceback (most recent call last)",
      "Cell \u001B[0;32mIn[101], line 3\u001B[0m\n\u001B[1;32m      1\u001B[0m \u001B[38;5;66;03m# An example of a more complex text that we can use to generate more complex output\u001B[39;00m\n\u001B[1;32m      2\u001B[0m sonet_markov_model \u001B[38;5;241m=\u001B[39m \u001B[38;5;28mdict\u001B[39m()\n\u001B[0;32m----> 3\u001B[0m file \u001B[38;5;241m=\u001B[39m \u001B[38;5;28;43mopen\u001B[39;49m\u001B[43m(\u001B[49m\u001B[38;5;124;43m\"\u001B[39;49m\u001B[38;5;124;43mdata/sonnets.txt\u001B[39;49m\u001B[38;5;124;43m\"\u001B[39;49m\u001B[43m,\u001B[49m\u001B[43m \u001B[49m\u001B[38;5;124;43m\"\u001B[39;49m\u001B[38;5;124;43mr\u001B[39;49m\u001B[38;5;124;43m\"\u001B[39;49m\u001B[43m)\u001B[49m\n\u001B[1;32m      4\u001B[0m sonet \u001B[38;5;241m=\u001B[39m \u001B[38;5;124m\"\u001B[39m\u001B[38;5;124m\"\u001B[39m\n\u001B[1;32m      5\u001B[0m \u001B[38;5;28;01mfor\u001B[39;00m line \u001B[38;5;129;01min\u001B[39;00m file:\n",
      "File \u001B[0;32m~/Library/Python/3.9/lib/python/site-packages/IPython/core/interactiveshell.py:310\u001B[0m, in \u001B[0;36m_modified_open\u001B[0;34m(file, *args, **kwargs)\u001B[0m\n\u001B[1;32m    303\u001B[0m \u001B[38;5;28;01mif\u001B[39;00m file \u001B[38;5;129;01min\u001B[39;00m {\u001B[38;5;241m0\u001B[39m, \u001B[38;5;241m1\u001B[39m, \u001B[38;5;241m2\u001B[39m}:\n\u001B[1;32m    304\u001B[0m     \u001B[38;5;28;01mraise\u001B[39;00m \u001B[38;5;167;01mValueError\u001B[39;00m(\n\u001B[1;32m    305\u001B[0m         \u001B[38;5;124mf\u001B[39m\u001B[38;5;124m\"\u001B[39m\u001B[38;5;124mIPython won\u001B[39m\u001B[38;5;124m'\u001B[39m\u001B[38;5;124mt let you open fd=\u001B[39m\u001B[38;5;132;01m{\u001B[39;00mfile\u001B[38;5;132;01m}\u001B[39;00m\u001B[38;5;124m by default \u001B[39m\u001B[38;5;124m\"\u001B[39m\n\u001B[1;32m    306\u001B[0m         \u001B[38;5;124m\"\u001B[39m\u001B[38;5;124mas it is likely to crash IPython. If you know what you are doing, \u001B[39m\u001B[38;5;124m\"\u001B[39m\n\u001B[1;32m    307\u001B[0m         \u001B[38;5;124m\"\u001B[39m\u001B[38;5;124myou can use builtins\u001B[39m\u001B[38;5;124m'\u001B[39m\u001B[38;5;124m open.\u001B[39m\u001B[38;5;124m\"\u001B[39m\n\u001B[1;32m    308\u001B[0m     )\n\u001B[0;32m--> 310\u001B[0m \u001B[38;5;28;01mreturn\u001B[39;00m \u001B[43mio_open\u001B[49m\u001B[43m(\u001B[49m\u001B[43mfile\u001B[49m\u001B[43m,\u001B[49m\u001B[43m \u001B[49m\u001B[38;5;241;43m*\u001B[39;49m\u001B[43margs\u001B[49m\u001B[43m,\u001B[49m\u001B[43m \u001B[49m\u001B[38;5;241;43m*\u001B[39;49m\u001B[38;5;241;43m*\u001B[39;49m\u001B[43mkwargs\u001B[49m\u001B[43m)\u001B[49m\n",
      "\u001B[0;31mFileNotFoundError\u001B[0m: [Errno 2] No such file or directory: 'data/sonnets.txt'"
     ]
    }
   ],
   "execution_count": 101
  }
 ],
 "metadata": {
  "kernelspec": {
   "display_name": "Python 3 (ipykernel)",
   "language": "python",
   "name": "python3"
  },
  "language_info": {
   "codemirror_mode": {
    "name": "ipython",
    "version": 3
   },
   "file_extension": ".py",
   "mimetype": "text/x-python",
   "name": "python",
   "nbconvert_exporter": "python",
   "pygments_lexer": "ipython3",
   "version": "3.12.4"
  }
 },
 "nbformat": 4,
 "nbformat_minor": 5
}
