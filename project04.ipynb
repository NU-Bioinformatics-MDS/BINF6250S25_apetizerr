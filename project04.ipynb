{
 "cells": [
  {
   "cell_type": "markdown",
   "id": "7af49a27-c44a-4583-81ab-0c56bc064160",
   "metadata": {},
   "source": [
    "# De Bruijn graphs"
   ]
  },
  {
   "cell_type": "markdown",
   "id": "4c9944d6-194f-418a-8d64-546ceb981b02",
   "metadata": {},
   "source": [
    "You will be implementing one of the primary assembly algorithms from short-read data that is used today. We will implement a simple form of the algorithm where we _assume perfect sequencing_. That is, everything is sequenced exactly once and there are no errors or variants in the sequencing. \n",
    "\n",
    "A graph is composed of **nodes** and **edges** and we will need to develop a data strcture to track edges between nodes in our graph. We have provided the basic class structure as well as descriptions of functions to `add_edge` and `remove_edge` from the graph. You will need to implement these functions in order to then build the de Bruijn graph. \n",
    "\n",
    "In our implementation below, we use a `defaultdict` data structure to hold a list of all edges in the graph where all \"right\" nodes connected to a \"left\" node are stored in a list for that node.\n",
    "\n",
    "```\n",
    "build_debruijn_graph:\n",
    "define substring length k and input string\n",
    "For each k-length substring of input:\n",
    "  split k mer into left and right k-1 mer\n",
    "  add k-1 mers as nodes with a directed edge from left k-1 mer to right k-1 mer\n",
    "```"
   ]
  },
  {
   "cell_type": "code",
   "execution_count": null,
   "id": "d1da3c4e-c018-4985-aa1c-353d2260054e",
   "metadata": {},
   "outputs": [],
   "source": [
    "from collections import defaultdict\n",
    "import random\n",
    "\n",
    "class DeBruijnGraph():\n",
    "    \"\"\"Main class for De Bruijn graphs\n",
    "    \n",
    "    Private Attributes:\n",
    "        graph (defaultdict of lists): Edges for De Bruijn graph\n",
    "        first_node (str): starting position for traversing the graph\n",
    "    \"\"\"\n",
    "\n",
    "    def __init__(self, input_string, k):\n",
    "        self.graph = defaultdict(list)\n",
    "        self.first_node = ''\n",
    "        self.build_debruijn_graph(input_string, k)\n",
    "        \n",
    "    def add_edge(self, left, right):\n",
    "        ''' This function adds a new edge to the graph\n",
    "        \n",
    "        Args:\n",
    "            left (str): The k-1 mer for the left edge\n",
    "            right (str): The k-1 mer for the right edge\n",
    "\n",
    "        Updates graph attribute to add right to the list named left in defaultdict   \n",
    "        '''\n",
    "       \n",
    "        \n",
    "    def remove_edge(self, left, right):\n",
    "        ''' This function removes an edge from the graph\n",
    "        \n",
    "        Args:\n",
    "            left (str): The k-1 mer for the left edge\n",
    "            right (str): The k-1 mer for the right edge\n",
    "\n",
    "        Updates graph attribute to remove right from the list named left in defaultdict\n",
    "        '''\n",
    "        pass\n",
    "\n",
    "    def build_debruijn_graph(self, input_string, k):\n",
    "        ''' This function builds a De Buijn graph from a string\n",
    "        \n",
    "        Args:\n",
    "            input_string (str): string to use for building the graph\n",
    "            k (int): k-mer length for graph construction\n",
    "\n",
    "        Updates graph attribute to add all valid edges from the string\n",
    "        \n",
    "        Example:\n",
    "        >>> dbg = DeBruijnGraph(\"this this this is a test\", 4)\n",
    "        >>> print(dbg.graph) #doctest: +ELLIPSIS +NORMALIZE_WHITESPACE\n",
    "        defaultdict(<class 'list'>, {'thi': ['his', 'his', 'his'], 'his': ['is ', 'is ', 'is '], ...)\n",
    "        '''\n",
    "        char_pos = 6\n",
    "        self.first_node = input_string[0:5]\n",
    "        while char_pos <= len(input_string):\n",
    "            defaultdict[input_string[(char_pos-6):(char_pos-1)]].append(input_string[char_pos-5:char_pos])\n",
    "        "
   ]
  },
  {
   "cell_type": "code",
   "execution_count": null,
   "id": "13d973d6-4d6f-40bb-bfae-ddd63f86edce",
   "metadata": {},
   "outputs": [],
   "source": [
    "graph = DeBruijnGraph(\"fool me once shame on shame on you fool me\", 6)\n",
    "print(graph.graph)"
   ]
  },
  {
   "cell_type": "markdown",
   "id": "ee3eb732-3467-4239-b706-71fd797aacd5",
   "metadata": {},
   "source": [
    "Expected output:\n",
    "defaultdict(<class 'list'>, {'fool ': ['ool m', 'ool m'], 'ool m': ['ol me', 'ol me'], 'ol me': ['l me '], 'l me ': [' me o'], ' me o': ['me on'], 'me on': ['e onc', 'e on ', 'e on '], 'e onc': [' once'], ' once': ['once '], 'once ': ['nce s'], 'nce s': ['ce sh'], 'ce sh': ['e sha'], 'e sha': [' sham'], ' sham': ['shame', 'shame'], 'shame': ['hame ', 'hame '], 'hame ': ['ame o', 'ame o'], 'ame o': ['me on', 'me on'], 'e on ': [' on s', ' on y'], ' on s': ['on sh'], 'on sh': ['n sha'], 'n sha': [' sham'], ' on y': ['on yo'], 'on yo': ['n you'], 'n you': [' you '], ' you ': ['you f'], 'you f': ['ou fo'], 'ou fo': ['u foo'], 'u foo': [' fool'], ' fool': ['fool ']})"
   ]
  },
  {
   "cell_type": "code",
   "execution_count": null,
   "id": "e1e6c2c3-3341-4c32-b813-8c602933f73b",
   "metadata": {},
   "outputs": [],
   "source": [
    "import doctest\n",
    "doctest.testmod()"
   ]
  }
 ],
 "metadata": {
  "kernelspec": {
   "display_name": "Teaching",
   "language": "python",
   "name": "conda-env-teaching-py"
  },
  "language_info": {
   "codemirror_mode": {
    "name": "ipython",
    "version": 3
   },
   "file_extension": ".py",
   "mimetype": "text/x-python",
   "name": "python",
   "nbconvert_exporter": "python",
   "pygments_lexer": "ipython3",
   "version": "3.12.4"
  }
 },
 "nbformat": 4,
 "nbformat_minor": 5
}
